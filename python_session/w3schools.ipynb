{
 "cells": [
  {
   "cell_type": "code",
   "execution_count": 1,
   "metadata": {},
   "outputs": [
    {
     "name": "stdout",
     "output_type": "stream",
     "text": [
      "C\n",
      "Vulgkdu\n"
     ]
    }
   ],
   "source": [
    "# ceasar cipher\n",
    "def caesar(sting, step):\n",
    "  \n",
    "  lower = ['a', 'b', 'c', 'd', 'e', 'f', 'g', 'h', 'i', 'j', 'k', 'l', 'm', 'n', 'o', 'p', 'q', 'r', 's', 't', 'u', 'v', 'w', 'x', 'y', 'z']\n",
    "  upper = ['A', 'B', 'C', 'D', 'E', 'F', 'G', 'H', 'I', 'J', 'K', 'L', 'M', 'N', 'O', 'P', 'Q', 'R', 'S', 'T', 'U', 'V', 'W', 'X', 'Y', 'Z']\n",
    "  print(upper[2])\n",
    "  outtext = []\n",
    "  cryptext = []\n",
    "  \n",
    "  for letter in sting:\n",
    "    if letter in upper:\n",
    "      index = upper.index(letter)\n",
    "      crypting = (index + step) % 26\n",
    "      cryptext.append(crypting)\n",
    "      newline = upper[crypting]\n",
    "      outtext.append(newline)\n",
    "    elif letter in lower:\n",
    "      index = lower.index(letter)\n",
    "      crypting = (index + step) % 26\n",
    "      cryptext.append(crypting)\n",
    "      newline = lower[crypting]\n",
    "      \n",
    "      outtext.append(newline)\n",
    "  return outtext\n",
    "print(''.join(caesar('Sridhar', 3)))"
   ]
  },
  {
   "cell_type": "code",
   "execution_count": 2,
   "metadata": {},
   "outputs": [
    {
     "name": "stdout",
     "output_type": "stream",
     "text": [
      "97\n"
     ]
    }
   ],
   "source": [
    "# Temperature conversion\n",
    "\n",
    "def temp_conv(sting):\n",
    "  temp = int(sting[:-1])\n",
    "  conve = sting[-1]\n",
    "  if conve.upper() == 'C':\n",
    "    res = int(round((9*temp)/5 + 32))\n",
    "    # res = int(round((temp - 32)*5/9))\n",
    "    return res\n",
    "    \n",
    "  if conve.upper() == 'F':\n",
    "    res = int(round((temp - 32)*5/9))\n",
    "    # res = int(round((9*temp)/5 + 32))\n",
    "    return res\n",
    "    \n",
    "print(temp_conv('36c'))\n"
   ]
  },
  {
   "cell_type": "code",
   "execution_count": 1,
   "metadata": {},
   "outputs": [
    {
     "name": "stdout",
     "output_type": "stream",
     "text": [
      "\n",
      "* \n",
      "* * \n",
      "* * * \n",
      "* * * * \n",
      "* * * * * \n",
      "* * * * \n",
      "* * * \n",
      "* * \n",
      "* \n"
     ]
    }
   ],
   "source": [
    "# Pattern using nested for loop\n",
    "n=5;\n",
    "for i in range(5):\n",
    "  for j in range(i):\n",
    "    print('* ', end=\"\")\n",
    "  print('')\n",
    "  \n",
    "  \n",
    "for i in range(5,0,-1):\n",
    "  for j in range(i):\n",
    "    print('* ', end=\"\")\n",
    "  print('')"
   ]
  },
  {
   "cell_type": "code",
   "execution_count": 2,
   "metadata": {},
   "outputs": [
    {
     "name": "stdout",
     "output_type": "stream",
     "text": [
      "1\n",
      "1\n",
      "2\n",
      "3\n",
      "5\n",
      "8\n",
      "13\n",
      "21\n",
      "34\n"
     ]
    }
   ],
   "source": [
    "# fibanocci series\n",
    "\n",
    "x, y = 0, 1\n",
    "\n",
    "while y < 50:\n",
    "  print(y)\n",
    "  x, y = y , y + x"
   ]
  },
  {
   "cell_type": "code",
   "execution_count": 2,
   "metadata": {},
   "outputs": [
    {
     "name": "stdout",
     "output_type": "stream",
     "text": [
      "Enter row numbers :\n"
     ]
    },
    {
     "ename": "ValueError",
     "evalue": "invalid literal for int() with base 10: ''",
     "output_type": "error",
     "traceback": [
      "\u001b[0;31m---------------------------------------------------------------------------\u001b[0m",
      "\u001b[0;31mValueError\u001b[0m                                Traceback (most recent call last)",
      "\u001b[0;32m<ipython-input-2-4620d2537712>\u001b[0m in \u001b[0;36m<module>\u001b[0;34m\u001b[0m\n\u001b[1;32m      1\u001b[0m \u001b[0;31m# 2-D array\u001b[0m\u001b[0;34m\u001b[0m\u001b[0;34m\u001b[0m\u001b[0;34m\u001b[0m\u001b[0m\n\u001b[1;32m      2\u001b[0m \u001b[0;34m\u001b[0m\u001b[0m\n\u001b[0;32m----> 3\u001b[0;31m \u001b[0mrow_num\u001b[0m \u001b[0;34m=\u001b[0m \u001b[0mint\u001b[0m\u001b[0;34m(\u001b[0m\u001b[0minput\u001b[0m\u001b[0;34m(\u001b[0m\u001b[0;34m'Enter row numbers :'\u001b[0m\u001b[0;34m)\u001b[0m\u001b[0;34m)\u001b[0m\u001b[0;34m\u001b[0m\u001b[0;34m\u001b[0m\u001b[0m\n\u001b[0m\u001b[1;32m      4\u001b[0m \u001b[0mcol_num\u001b[0m \u001b[0;34m=\u001b[0m \u001b[0mint\u001b[0m\u001b[0;34m(\u001b[0m\u001b[0minput\u001b[0m\u001b[0;34m(\u001b[0m\u001b[0;34m'Enter column numbers :'\u001b[0m\u001b[0;34m)\u001b[0m\u001b[0;34m)\u001b[0m\u001b[0;34m\u001b[0m\u001b[0;34m\u001b[0m\u001b[0m\n\u001b[1;32m      5\u001b[0m \u001b[0;34m\u001b[0m\u001b[0m\n",
      "\u001b[0;31mValueError\u001b[0m: invalid literal for int() with base 10: ''"
     ]
    }
   ],
   "source": [
    "# 2-D array\n",
    "\n",
    "row_num = int(input('Enter row numbers :'))\n",
    "col_num = int(input('Enter column numbers :'))\n",
    "\n",
    "mul_list= [[0 for col in range(col_num)] for row in range(row_num)]\n",
    "# print(mul_list)\n",
    "\n",
    "for row in range(row_num):\n",
    "  for col in range(col_num):\n",
    "    mul_list[row][col] = row * col\n",
    "print(mul_list)"
   ]
  },
  {
   "cell_type": "code",
   "execution_count": 3,
   "metadata": {},
   "outputs": [
    {
     "name": "stdout",
     "output_type": "stream",
     "text": [
      "Please enter your password :Sridhar@123\n",
      "Valid Password\n"
     ]
    }
   ],
   "source": [
    "# Validate password\n",
    "\n",
    "import re\n",
    "pwd = input('Please enter your password :')\n",
    "\n",
    "x = True\n",
    "while x :\n",
    "  if (len(pwd) < 6 or len(pwd)> 12):\n",
    "    break\n",
    "  elif not (re.search('[a-z]', pwd)):\n",
    "    break\n",
    "  elif not (re.search('[A-Z]', pwd)):\n",
    "    break\n",
    "  elif not (re.search('[0-9]', pwd)):\n",
    "    break\n",
    "  elif not (re.search('[$#@]', pwd)):\n",
    "    break\n",
    "  \n",
    "  else:\n",
    "    print('Valid Password')\n",
    "    x=False\n",
    "    break\n",
    "if x:\n",
    "  print(x)\n",
    "  print('Invalid password')\n",
    "  "
   ]
  }
 ],
 "metadata": {
  "kernelspec": {
   "display_name": "Python 3",
   "language": "python",
   "name": "python3"
  },
  "language_info": {
   "codemirror_mode": {
    "name": "ipython",
    "version": 3
   },
   "file_extension": ".py",
   "mimetype": "text/x-python",
   "name": "python",
   "nbconvert_exporter": "python",
   "pygments_lexer": "ipython3",
   "version": "3.7.1"
  }
 },
 "nbformat": 4,
 "nbformat_minor": 2
}
