{
 "cells": [
  {
   "cell_type": "code",
   "execution_count": null,
   "metadata": {},
   "outputs": [],
   "source": [
    "import builtins\n",
    "dir(builtins)\n"
   ]
  },
  {
   "cell_type": "code",
   "execution_count": null,
   "metadata": {},
   "outputs": [],
   "source": [
    "import re\n",
    "re.match('rror', dir(builtins))"
   ]
  },
  {
   "cell_type": "code",
   "execution_count": null,
   "metadata": {},
   "outputs": [],
   "source": [
    "# Higher Order functions\n",
    "# First Class functions\n",
    "# try and exceptions\n",
    "# functional programming\n",
    "# side effect\n",
    "# purity\n",
    "# mutation\n",
    "# Lambda- Map, filter, Reduce\n",
    "# recursion\n",
    "# yield\n",
    "# co-routines and sub-routines\n",
    "# functools module\n",
    "# Iter Object\n",
    "# stop iteration in for loop\n",
    "# for loop internal process\n",
    "# break and continue \n",
    "# Context manager\n",
    "# "
   ]
  },
  {
   "cell_type": "code",
   "execution_count": null,
   "metadata": {},
   "outputs": [],
   "source": [
    "while True:\n",
    "    try:\n",
    "        x = int(input('Enter a valid number:'))\n",
    "        break\n",
    "    except ValueError:\n",
    "        print('It is not a valid number')\n",
    "    \n",
    "    "
   ]
  },
  {
   "cell_type": "code",
   "execution_count": null,
   "metadata": {},
   "outputs": [],
   "source": [
    "# First Order functions\n",
    "def create_one(x):\n",
    "    def adder(y):\n",
    "        return x + y\n",
    "    return adder\n",
    "add_15 = create_one(-15)\n",
    "add_15(13)"
   ]
  },
  {
   "cell_type": "code",
   "execution_count": null,
   "metadata": {},
   "outputs": [],
   "source": [
    "add_15 = create_one(-15)"
   ]
  },
  {
   "cell_type": "code",
   "execution_count": null,
   "metadata": {},
   "outputs": [],
   "source": [
    "add_15(13)"
   ]
  },
  {
   "cell_type": "code",
   "execution_count": null,
   "metadata": {},
   "outputs": [],
   "source": [
    "# Higher Order functions\n",
    "def add_2num(x, y):\n",
    "    return x + y\n",
    "\n",
    "def add_3num(x, y, z):\n",
    "    return x + y+ z\n",
    "\n",
    "def appropriate_function(num_len):\n",
    "    if num_len == 3:\n",
    "        return add_3num\n",
    "    else:\n",
    "        return add_2num\n",
    "    \n",
    "if __name__ == \"__main__\":\n",
    "    args = [1,3]\n",
    "    num_len = len(args)\n",
    "    res_function = appropriate_function(num_len)\n",
    "    print(res_function)\n",
    "    print(res_function(*args))"
   ]
  },
  {
   "cell_type": "code",
   "execution_count": null,
   "metadata": {},
   "outputs": [],
   "source": [
    "def my_map(func, *args):\n",
    "    \n",
    "    return func(args ** 2)\n",
    "\n",
    "def add(x):\n",
    "    lis = []\n",
    "    for i in x:\n",
    "        lis.append(i)\n",
    "    return lis"
   ]
  },
  {
   "cell_type": "code",
   "execution_count": null,
   "metadata": {},
   "outputs": [],
   "source": [
    "my_map(add,[1,2,3,4])"
   ]
  },
  {
   "cell_type": "code",
   "execution_count": null,
   "metadata": {},
   "outputs": [],
   "source": [
    "def my_reduce(func, lis, initial=None):\n",
    "    count = 0\n",
    "    for i in lis:\n",
    "        count = count + i\n",
    "    return count"
   ]
  },
  {
   "cell_type": "code",
   "execution_count": null,
   "metadata": {},
   "outputs": [],
   "source": [
    "my_reduce(lambda x, y: x + y, [1,2,3,4,5])"
   ]
  },
  {
   "cell_type": "code",
   "execution_count": null,
   "metadata": {},
   "outputs": [],
   "source": [
    "lst=[]\n",
    "def lst_add(num):\n",
    "    return lst.append(num)"
   ]
  },
  {
   "cell_type": "code",
   "execution_count": null,
   "metadata": {},
   "outputs": [],
   "source": [
    "target = None\n",
    "def lst_add(num):\n",
    "    if target is None:\n",
    "        global target = []\n",
    "    target.append(num)\n",
    "    return target"
   ]
  },
  {
   "cell_type": "code",
   "execution_count": null,
   "metadata": {},
   "outputs": [],
   "source": [
    "# Palindrome\n",
    "def reverse(s):\n",
    "    return s[::-1]\n",
    "\n",
    "def is_palindrome(s):\n",
    "    rev = reverse(s)\n",
    "    return s==rev\n",
    "\n",
    "is_palindrome('malayalam')       \n"
   ]
  },
  {
   "cell_type": "code",
   "execution_count": null,
   "metadata": {},
   "outputs": [],
   "source": [
    "# Fibonacci Series\n",
    "def fibonacci(num):\n",
    "    if num == 0:\n",
    "        return \"Incorrect Input\"\n",
    "    elif num ==1:\n",
    "        return 0\n",
    "    elif num == 2:\n",
    "        return 1\n",
    "    else:\n",
    "        return fibonacci(num-1) + fibonacci(num-2)\n",
    "    "
   ]
  },
  {
   "cell_type": "code",
   "execution_count": null,
   "metadata": {},
   "outputs": [],
   "source": [
    "# Bubble Sort\n",
    "def bubble_sort(lst):\n",
    "    swapping = True\n",
    "    while swapping:\n",
    "        swapping = False\n",
    "        for i in range(len(lst)-1):\n",
    "            if lst[i] > lst[i+1]:\n",
    "                lst[i], lst[i+1] = lst[i+1], lst[i]\n",
    "            swapping = True"
   ]
  },
  {
   "cell_type": "code",
   "execution_count": null,
   "metadata": {},
   "outputs": [],
   "source": [
    "def strlen(lst):\n",
    "    str_init = 0\n",
    "    for i in lst:\n",
    "        str_init += 1\n",
    "    return str_init"
   ]
  },
  {
   "cell_type": "code",
   "execution_count": null,
   "metadata": {},
   "outputs": [],
   "source": [
    "# Write a program seperate all prime numbers whose sum of digits is also a prime number in given range map, filter, reduce\n",
    "# "
   ]
  },
  {
   "cell_type": "code",
   "execution_count": null,
   "metadata": {},
   "outputs": [],
   "source": [
    "with open('LICENSE.txt', 'w') as fo:\n",
    "    fo.write('How are you!')"
   ]
  },
  {
   "cell_type": "code",
   "execution_count": null,
   "metadata": {},
   "outputs": [],
   "source": [
    "10//2"
   ]
  },
  {
   "cell_type": "code",
   "execution_count": null,
   "metadata": {},
   "outputs": [],
   "source": [
    "def true_round(number, places=0):\n",
    "    place = 10 ** places\n",
    "    return place\n",
    "#     rounded = (int(number*place + 5 if number>=5 else -5))/place\n",
    "#     return rounded\n"
   ]
  },
  {
   "cell_type": "code",
   "execution_count": null,
   "metadata": {
    "scrolled": true
   },
   "outputs": [],
   "source": [
    "true_round(18,1)"
   ]
  },
  {
   "cell_type": "code",
   "execution_count": null,
   "metadata": {},
   "outputs": [],
   "source": [
    "# Polymorphism\n",
    "\n",
    "# using Inheritance and Method Overriding\n",
    "class Birds():\n",
    "    def intro(self):\n",
    "        print('There are many types of birds')\n",
    "    def flight(self):\n",
    "        print('Some can fly and some are cannot fly')\n",
    "class Sparrow(Birds):\n",
    "    def flight(self):\n",
    "        print('Sparrow Can fly')\n",
    "class Ostrich(Birds):\n",
    "    def flight(self):\n",
    "        print('ostrich cannot fly.')\n",
    "obj_bird = Birds()\n",
    "obj_spar = Sparrow()\n",
    "obj_ost = Ostrich()\n",
    "\n",
    "for obj in (obj_bird, obj_spar, obj_ost):\n",
    "    obj.intro()\n",
    "    obj.flight()\n",
    "    \n",
    "\n",
    "# Using Class Methods\n",
    "class India():\n",
    "    def capital(self):\n",
    "        print('New delhi is the capital of India')\n",
    "    def language(self):\n",
    "        print('Hindi is the official language in India')\n",
    "\n",
    "class USA():\n",
    "    def capital(self):\n",
    "        print('Washington DC is the capital of India')\n",
    "    def language(self):\n",
    "        print('English is the official language in India')\n",
    "\n",
    "#   Using with Class Methods     \n",
    "obj_india = India()\n",
    "obj_us = USA()\n",
    "\n",
    "obj_india.capital()\n",
    "obj_us.language()\n",
    "\n",
    "for obj in [obj_india, obj_us]:\n",
    "    obj.capital()\n",
    "    obj.language()\n",
    "\n",
    "\n",
    "#  Using with function\n",
    "def func(obj):\n",
    "    obj.capital()\n",
    "    obj.language()\n",
    "#     obj.type()\n",
    "obj_india = India()\n",
    "obj_us = USA()\n",
    "func(obj_india)\n",
    "func(obj_us)"
   ]
  },
  {
   "cell_type": "code",
   "execution_count": 3,
   "metadata": {},
   "outputs": [
    {
     "name": "stdout",
     "output_type": "stream",
     "text": [
      "# conda environments:\r\n",
      "#\r\n",
      "base                     /home/sree/anaconda3\r\n",
      "books_flask              /home/sree/anaconda3/envs/books_flask\r\n",
      "flask-crud-app           /home/sree/anaconda3/envs/flask-crud-app\r\n",
      "myenv                 *  /home/sree/anaconda3/envs/myenv\r\n",
      "myenv1                   /home/sree/anaconda3/envs/myenv1\r\n",
      "\r\n"
     ]
    }
   ],
   "source": [
    "!conda env list"
   ]
  },
  {
   "cell_type": "code",
   "execution_count": 4,
   "metadata": {},
   "outputs": [],
   "source": [
    "# Palindrom Checker\n",
    "# Anagram\n",
    "# Substring checker\n",
    "\n",
    "\n",
    "\n"
   ]
  },
  {
   "cell_type": "code",
   "execution_count": 14,
   "metadata": {},
   "outputs": [
    {
     "name": "stdout",
     "output_type": "stream",
     "text": [
      "True\n",
      "False\n"
     ]
    }
   ],
   "source": [
    "# Substring Checker\n",
    "def is_substring(str1, sub_str):\n",
    "    word = sub_str\n",
    "    if word in str1:\n",
    "        return True\n",
    "    else:\n",
    "        return False\n",
    "\n",
    "print(is_substring('Sridhar', 'rid'))\n",
    "print(is_substring('fission', 'in'))"
   ]
  },
  {
   "cell_type": "code",
   "execution_count": 7,
   "metadata": {},
   "outputs": [
    {
     "data": {
      "text/plain": [
       "False"
      ]
     },
     "execution_count": 7,
     "metadata": {},
     "output_type": "execute_result"
    }
   ],
   "source": [
    "def is_anagram(str1):\n",
    "    \n",
    "    \n",
    "    "
   ]
  },
  {
   "cell_type": "code",
   "execution_count": 28,
   "metadata": {},
   "outputs": [
    {
     "data": {
      "text/plain": [
       "False"
      ]
     },
     "execution_count": 28,
     "metadata": {},
     "output_type": "execute_result"
    }
   ],
   "source": [
    "def is_palidrom(str1):\n",
    "    for i in range(len(str1)):\n",
    "        if str1[i] == str1[(len(str1)-1)]:\n",
    "            return True\n",
    "        return False\n",
    "        \n",
    "\n",
    "\n",
    "is_palidrom('sridharirahadris')\n"
   ]
  },
  {
   "cell_type": "code",
   "execution_count": 20,
   "metadata": {},
   "outputs": [
    {
     "data": {
      "text/plain": [
       "False"
      ]
     },
     "execution_count": 20,
     "metadata": {},
     "output_type": "execute_result"
    }
   ],
   "source": [
    "is_palidrom('sridrs')"
   ]
  },
  {
   "cell_type": "code",
   "execution_count": null,
   "metadata": {},
   "outputs": [],
   "source": []
  },
  {
   "cell_type": "code",
   "execution_count": null,
   "metadata": {},
   "outputs": [],
   "source": []
  },
  {
   "cell_type": "code",
   "execution_count": null,
   "metadata": {},
   "outputs": [],
   "source": []
  },
  {
   "cell_type": "code",
   "execution_count": null,
   "metadata": {},
   "outputs": [],
   "source": []
  },
  {
   "cell_type": "code",
   "execution_count": null,
   "metadata": {},
   "outputs": [],
   "source": []
  },
  {
   "cell_type": "code",
   "execution_count": null,
   "metadata": {},
   "outputs": [],
   "source": []
  },
  {
   "cell_type": "code",
   "execution_count": null,
   "metadata": {},
   "outputs": [],
   "source": []
  }
 ],
 "metadata": {
  "kernelspec": {
   "display_name": "Python 3",
   "language": "python",
   "name": "python3"
  },
  "language_info": {
   "codemirror_mode": {
    "name": "ipython",
    "version": 3
   },
   "file_extension": ".py",
   "mimetype": "text/x-python",
   "name": "python",
   "nbconvert_exporter": "python",
   "pygments_lexer": "ipython3",
   "version": "3.7.1"
  }
 },
 "nbformat": 4,
 "nbformat_minor": 2
}
