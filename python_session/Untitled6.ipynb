{
 "cells": [
  {
   "cell_type": "code",
   "execution_count": null,
   "metadata": {},
   "outputs": [],
   "source": [
    "def sequence(lst):\n",
    "    missed_no = []\n",
    "    seq = max(lst) \n",
    "    for i in range(0, seq+1):\n",
    "        if i not in lst:\n",
    "            return i"
   ]
  },
  {
   "cell_type": "code",
   "execution_count": null,
   "metadata": {},
   "outputs": [],
   "source": [
    "sequence([0,1,4,5,7,9])"
   ]
  },
  {
   "cell_type": "code",
   "execution_count": null,
   "metadata": {},
   "outputs": [],
   "source": [
    "def second_largest(arr):        \n",
    "    for i in range(len(arr)):\n",
    "        minimum = i          \n",
    "        for j in range(i + 1, len(arr)):\n",
    "            if arr[j] < arr[minimum]:\n",
    "                minimum = j        \n",
    "        arr[minimum], arr[i] = arr[i], arr[minimum]        \n",
    "            \n",
    "    return arr[-2]"
   ]
  },
  {
   "cell_type": "code",
   "execution_count": null,
   "metadata": {},
   "outputs": [],
   "source": [
    "second_largest([100,2,3,10,4,5,6])"
   ]
  },
  {
   "cell_type": "code",
   "execution_count": null,
   "metadata": {},
   "outputs": [],
   "source": [
    "def prime(number):\n",
    "    lst = []\n",
    "    for num in range(2,number):\n",
    "        status = True\n",
    "        for i in range(2,num):\n",
    "            if num % i == 0:\n",
    "                status = False\n",
    "        if status:\n",
    "            lst.append(num)\n",
    "    return lst\n",
    "\n",
    "def prime_sum(arr, n, sum):\n",
    "    for i in range(0, n): \n",
    "        for j in range(i + 1, n): \n",
    "            if (arr[i] + arr[j] == sum): \n",
    "                return (arr[i],arr[j]) \n",
    "                       \n",
    "                "
   ]
  },
  {
   "cell_type": "code",
   "execution_count": null,
   "metadata": {},
   "outputs": [],
   "source": [
    "prime_sum(prime(52), len(prime(52)),50)"
   ]
  },
  {
   "cell_type": "code",
   "execution_count": null,
   "metadata": {},
   "outputs": [],
   "source": [
    "def card_selection(colour = None, shape = None, number= None, condition = None):\n",
    "    numbers = [2,3,4,5,6,7,8,9,10,'j','q', 'k', 'a']\n",
    "    if number in numbers:\n",
    "\n",
    "        if condition == 'and':\n",
    "            if (colour == 'red' and (shape == 'diamond' or shape == 'heart') and number):\n",
    "                return '1/52'\n",
    "            if (colour == 'red' and (shape == 'spade' or shape == 'club') and number):\n",
    "                return 0\n",
    "            if (colour == 'black' and (shape == 'diamond' or shape == 'heart') and number):\n",
    "                return 0\n",
    "            if (colour == 'black' and (shape == 'spade' or shape == 'club') and number):\n",
    "                return '1/52'\n",
    "\n",
    "        if condition == 'or':\n",
    "            if colour == 'red':\n",
    "                if number:\n",
    "                    if shape == 'diamond' or shape == 'heart':\n",
    "                        return '40/52'\n",
    "                    if shape == 'spade' or shape == 'club':\n",
    "                        return 0\n",
    "            if colour == 'black':\n",
    "                if number:\n",
    "                    if shape == 'diamond' or shape == 'heart':\n",
    "                        return 0\n",
    "                    if shape == 'spade' or shape == 'club':\n",
    "                        return '40/52'\n",
    "            \n",
    "#             if (colour == 'red' or (shape == 'diamond' or shape == 'heart') or number):\n",
    "#                 return '40/52'\n",
    "#             if (colour == 'black' or shape == 'diamond' or shape == 'heart' or number):\n",
    "#                 return 0\n",
    "#             if (colour == 'red' or (shape == 'spade' or shape == 'club') or number):\n",
    "#                 return 0\n",
    "#             if (colour == 'black' or (shape == 'spade' or shape == 'club') and number):\n",
    "#                 return '40/52'\n",
    "    else:\n",
    "        return 'Invalid number'\n",
    "\n",
    "        \n"
   ]
  },
  {
   "cell_type": "code",
   "execution_count": null,
   "metadata": {},
   "outputs": [],
   "source": [
    "card_selection('black', 'diamond', 3, 'and')"
   ]
  },
  {
   "cell_type": "markdown",
   "metadata": {},
   "source": [
    "red or 'j' or 'club' == 26(2 j's are included) +  2 (2 j's excuded) + 12- (j) -->40/52\n",
    "red and j and diamond --> 1/52\n",
    "red or diamond or 2 --> 28/52\n",
    "red and club and j --> 0"
   ]
  },
  {
   "cell_type": "code",
   "execution_count": null,
   "metadata": {},
   "outputs": [],
   "source": [
    "list(number for number in numbers)"
   ]
  },
  {
   "cell_type": "code",
   "execution_count": 127,
   "metadata": {},
   "outputs": [],
   "source": [
    "import random\n",
    "import string\n",
    "\n",
    "def username_generator(FirstName = None,LastName = None, MiddleName = \"\"):\n",
    "#     number = '{:d}'.format(random.randrange(1, 999))\n",
    "#     symbol = '_\n",
    "#     MiddleName = None\n",
    "#     if len(MiddleName) >= 1:\n",
    "    names = FirstName + MiddleName + LastName\n",
    "    print(names)\n",
    "#     else:\n",
    "#         names = FirstName + LastName + string.digits + '_'\n",
    "    first_letter = names[:][:3]\n",
    "#     print(first_letter)\n",
    "    three_letters_surname = names[(len(FirstName)-1):(len(FirstName)+3)]\n",
    "    print(first_letter + three_letters_surname)\n",
    "    username = (first_letter + three_letters_surname)\n",
    "#     return username\n",
    "    #     string = names\n",
    "    #     names = string.ascii_l\n",
    "    lst = ''.join(random.choice(username) for i in range(7, 16))\n",
    "    return lst\n",
    "    lst1 = []\n",
    "    for i in range(10):\n",
    "#         lst = ''.join(random.choice(username) for i in range(7, 16))\n",
    "        lst1.append(lst)\n",
    "    return lst1\n",
    "\n",
    "        "
   ]
  },
  {
   "cell_type": "code",
   "execution_count": 128,
   "metadata": {},
   "outputs": [
    {
     "name": "stdout",
     "output_type": "stream",
     "text": [
      "sridhartanda\n",
      "srirtan\n"
     ]
    },
    {
     "data": {
      "text/plain": [
       "'saiarrrrs'"
      ]
     },
     "execution_count": 128,
     "metadata": {},
     "output_type": "execute_result"
    }
   ],
   "source": [
    "username_generator('sridhar','tanda')"
   ]
  },
  {
   "cell_type": "code",
   "execution_count": 86,
   "metadata": {},
   "outputs": [
    {
     "name": "stdout",
     "output_type": "stream",
     "text": [
      "Please enter your name: sridhar tanda\n",
      "sritan321\n"
     ]
    }
   ],
   "source": [
    "import random\n",
    "import sys\n",
    "\n",
    "names = input(\"Please enter your name: \").split(\" \")\n",
    "if not (len(names) > 1):\n",
    " print(\"Please input your full and last name.\")\n",
    " sys.exit()\n",
    "first_letter = names[0][:3]\n",
    "three_letters_surname = names[-1][:3]\n",
    "number = '{:03d}'.format(random.randrange(1, 999))\n",
    "username = (first_letter + three_letters_surname + number)\n",
    "print(username)"
   ]
  },
  {
   "cell_type": "code",
   "execution_count": 76,
   "metadata": {},
   "outputs": [
    {
     "name": "stdout",
     "output_type": "stream",
     "text": [
      "sridhartanda\n",
      "sa0123456789_\n"
     ]
    },
    {
     "data": {
      "text/plain": [
       "['2028s565_',\n",
       " '06a828601',\n",
       " '1514a0900',\n",
       " '77s62a888',\n",
       " '997ss9946',\n",
       " '28s731510',\n",
       " '4970a_227',\n",
       " '9s1228898',\n",
       " '5a7955883',\n",
       " '5984184a5']"
      ]
     },
     "execution_count": 76,
     "metadata": {},
     "output_type": "execute_result"
    }
   ],
   "source": [
    "username_generator('sridhar','tanda')"
   ]
  },
  {
   "cell_type": "code",
   "execution_count": 70,
   "metadata": {},
   "outputs": [
    {
     "name": "stdout",
     "output_type": "stream",
     "text": [
      "sridhargtanda\n"
     ]
    },
    {
     "ename": "TypeError",
     "evalue": "'first_letter' is an invalid keyword argument for print()",
     "output_type": "error",
     "traceback": [
      "\u001b[0;31m---------------------------------------------------------------------------\u001b[0m",
      "\u001b[0;31mTypeError\u001b[0m                                 Traceback (most recent call last)",
      "\u001b[0;32m<ipython-input-70-f94b2848f9ee>\u001b[0m in \u001b[0;36m<module>\u001b[0;34m\u001b[0m\n\u001b[1;32m      1\u001b[0m \u001b[0;32mfor\u001b[0m \u001b[0mname\u001b[0m \u001b[0;32min\u001b[0m \u001b[0mrange\u001b[0m\u001b[0;34m(\u001b[0m\u001b[0;36m10\u001b[0m\u001b[0;34m)\u001b[0m\u001b[0;34m:\u001b[0m\u001b[0;34m\u001b[0m\u001b[0;34m\u001b[0m\u001b[0m\n\u001b[0;32m----> 2\u001b[0;31m     \u001b[0mprint\u001b[0m\u001b[0;34m(\u001b[0m\u001b[0musername_generator\u001b[0m\u001b[0;34m(\u001b[0m\u001b[0;34m'sridhar'\u001b[0m\u001b[0;34m,\u001b[0m\u001b[0;34m'tanda'\u001b[0m\u001b[0;34m,\u001b[0m \u001b[0;34m'g'\u001b[0m\u001b[0;34m)\u001b[0m\u001b[0;34m[\u001b[0m\u001b[0mname\u001b[0m\u001b[0;34m]\u001b[0m\u001b[0;34m)\u001b[0m\u001b[0;34m\u001b[0m\u001b[0;34m\u001b[0m\u001b[0m\n\u001b[0m",
      "\u001b[0;32m<ipython-input-66-f73ad4bf80ce>\u001b[0m in \u001b[0;36musername_generator\u001b[0;34m(FirstName, LastName, MiddleName)\u001b[0m\n\u001b[1;32m     11\u001b[0m \u001b[0;31m#     else:\u001b[0m\u001b[0;34m\u001b[0m\u001b[0;34m\u001b[0m\u001b[0;34m\u001b[0m\u001b[0m\n\u001b[1;32m     12\u001b[0m \u001b[0;31m#         names = FirstName + LastName + string.digits + '_'\u001b[0m\u001b[0;34m\u001b[0m\u001b[0;34m\u001b[0m\u001b[0;34m\u001b[0m\u001b[0m\n\u001b[0;32m---> 13\u001b[0;31m     \u001b[0mprint\u001b[0m\u001b[0;34m(\u001b[0m\u001b[0mfirst_letter\u001b[0m \u001b[0;34m=\u001b[0m \u001b[0mnames\u001b[0m\u001b[0;34m[\u001b[0m\u001b[0;36m0\u001b[0m\u001b[0;34m]\u001b[0m\u001b[0;34m[\u001b[0m\u001b[0;36m0\u001b[0m\u001b[0;34m]\u001b[0m\u001b[0;34m)\u001b[0m\u001b[0;34m\u001b[0m\u001b[0;34m\u001b[0m\u001b[0m\n\u001b[0m\u001b[1;32m     14\u001b[0m     \u001b[0mthree_letters_surname\u001b[0m \u001b[0;34m=\u001b[0m \u001b[0mnames\u001b[0m\u001b[0;34m[\u001b[0m\u001b[0;34m-\u001b[0m\u001b[0;36m1\u001b[0m\u001b[0;34m]\u001b[0m\u001b[0;34m[\u001b[0m\u001b[0;34m:\u001b[0m\u001b[0;36m3\u001b[0m\u001b[0;34m]\u001b[0m\u001b[0;34m\u001b[0m\u001b[0;34m\u001b[0m\u001b[0m\n\u001b[1;32m     15\u001b[0m     \u001b[0musername\u001b[0m \u001b[0;34m=\u001b[0m \u001b[0mfirst_letter\u001b[0m \u001b[0;34m+\u001b[0m \u001b[0mthree_letters_surname\u001b[0m \u001b[0;34m+\u001b[0m \u001b[0mstring\u001b[0m\u001b[0;34m.\u001b[0m\u001b[0mdigits\u001b[0m \u001b[0;34m+\u001b[0m \u001b[0;34m'_'\u001b[0m\u001b[0;34m\u001b[0m\u001b[0;34m\u001b[0m\u001b[0m\n",
      "\u001b[0;31mTypeError\u001b[0m: 'first_letter' is an invalid keyword argument for print()"
     ]
    }
   ],
   "source": [
    "for name in range(10):\n",
    "    print(username_generator('sridhar','tanda', 'g')[name])"
   ]
  },
  {
   "cell_type": "code",
   "execution_count": null,
   "metadata": {},
   "outputs": [],
   "source": [
    "list(username_generator('sridhar','tanda', 'goud'))"
   ]
  },
  {
   "cell_type": "code",
   "execution_count": null,
   "metadata": {},
   "outputs": [],
   "source": [
    "def main():\n",
    "    print(\"This program generates computer usernames.\\n\")\n",
    "\n",
    "    # get user's first and last names\n",
    "    first = input(\"Please enter your first name (all lowercase): \")\n",
    "    last = input(\"Please enter your last name (all lowercase): \")\n",
    "\n",
    "    # concatenate first initial with 7 chars of the last name.\n",
    "    uname = first[0] + last[:7]\n",
    "\n",
    "    # output the username\n",
    "    print(\"Your username is:\", uname)\n",
    "\n",
    "main()"
   ]
  },
  {
   "cell_type": "code",
   "execution_count": null,
   "metadata": {},
   "outputs": [],
   "source": [
    "def parrot(voltage, state='a stiff', action='voom', type='Norwegian Blue'):\n",
    "    print(\"-- This parrot wouldn't\", action, end=' ')"
   ]
  },
  {
   "cell_type": "code",
   "execution_count": null,
   "metadata": {},
   "outputs": [],
   "source": [
    "parrot(10)"
   ]
  },
  {
   "cell_type": "code",
   "execution_count": null,
   "metadata": {},
   "outputs": [],
   "source": [
    "import random\n",
    "import sys\n",
    "\n",
    "names = input(\"Please enter your name: \").split(\" \")\n",
    "print(names)\n",
    "if not (len(names) > 1):\n",
    " print(\"Please input your full and last name.\")\n",
    " sys.exit()\n",
    "first_letter = names[0][0]\n",
    "three_letters_surname = names[-1][:3]\n",
    "number = '{:03d}'.format(random.randrange(1, 999))\n",
    "username = (first_letter + three_letters_surname + number)\n",
    "\n",
    "print(random.randint(username,7))"
   ]
  },
  {
   "cell_type": "code",
   "execution_count": 28,
   "metadata": {},
   "outputs": [],
   "source": [
    "def perm(lst):\n",
    "    if len(lst) == 0:\n",
    "        return []\n",
    "    if len(lst) == 1:\n",
    "        return lst\n",
    "    lst1 = []\n",
    "    for i in range(len(lst)):\n",
    "        m = lst[i]\n",
    "        remain_lst = lst[:i] + lst[i+1:]\n",
    "        for i in perm(remain_lst):\n",
    "            lst1.append([m] + [i])\n",
    "    return lst1"
   ]
  },
  {
   "cell_type": "code",
   "execution_count": 33,
   "metadata": {},
   "outputs": [
    {
     "name": "stdout",
     "output_type": "stream",
     "text": [
      "['1', ['2', '3']]\n",
      "['1', ['3', '2']]\n",
      "['2', ['1', '3']]\n",
      "['2', ['3', '1']]\n",
      "['3', ['1', '2']]\n",
      "['3', ['2', '1']]\n"
     ]
    }
   ],
   "source": [
    "lst = list('123')\n",
    "for i in perm(lst):\n",
    "    print(i)"
   ]
  },
  {
   "cell_type": "code",
   "execution_count": 31,
   "metadata": {},
   "outputs": [
    {
     "data": {
      "text/plain": [
       "[[1, [2, 3]], [1, [3, 2]], [2, [1, 3]], [2, [3, 1]], [3, [1, 2]], [3, [2, 1]]]"
      ]
     },
     "execution_count": 31,
     "metadata": {},
     "output_type": "execute_result"
    }
   ],
   "source": [
    "perm([1,2,3])"
   ]
  },
  {
   "cell_type": "code",
   "execution_count": null,
   "metadata": {},
   "outputs": [],
   "source": []
  },
  {
   "cell_type": "code",
   "execution_count": null,
   "metadata": {},
   "outputs": [],
   "source": []
  }
 ],
 "metadata": {
  "kernelspec": {
   "display_name": "Python 3",
   "language": "python",
   "name": "python3"
  },
  "language_info": {
   "codemirror_mode": {
    "name": "ipython",
    "version": 3
   },
   "file_extension": ".py",
   "mimetype": "text/x-python",
   "name": "python",
   "nbconvert_exporter": "python",
   "pygments_lexer": "ipython3",
   "version": "3.7.1"
  }
 },
 "nbformat": 4,
 "nbformat_minor": 2
}
